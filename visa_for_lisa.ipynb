{
 "cells": [
  {
   "cell_type": "code",
   "execution_count": null,
   "metadata": {},
   "outputs": [],
   "source": [
    "%pip install scikit-learn"
   ]
  },
  {
   "cell_type": "markdown",
   "metadata": {},
   "source": [
    "## Importing Necessary Libraries"
   ]
  },
  {
   "cell_type": "code",
   "execution_count": null,
   "metadata": {},
   "outputs": [],
   "source": [
    "import pandas as pd\n",
    "import numpy as np\n",
    "import plotly_express as px\n",
    "import matplotlib.pyplot as plt\n",
    "import warnings\n",
    "warnings.filterwarnings('ignore')\n",
    "from sklearn.model_selection import train_test_split\n",
    "from sklearn.metrics import accuracy_score, mean_squared_error, confusion_matrix, ConfusionMatrixDisplay\n",
    "from sklearn.model_selection import cross_val_score\n",
    "from sklearn.linear_model import LogisticRegression\n",
    "from sklearn.tree import DecisionTreeClassifier\n",
    "from sklearn.ensemble import RandomForestClassifier\n",
    "from sklearn.svm import SVC\n",
    "from sklearn.neighbors import KNeighborsClassifier\n",
    "from sklearn.discriminant_analysis import LinearDiscriminantAnalysis\n",
    "from sklearn.naive_bayes import GaussianNB"
   ]
  },
  {
   "cell_type": "markdown",
   "metadata": {},
   "source": [
    "## Reading Dataset"
   ]
  },
  {
   "cell_type": "code",
   "execution_count": null,
   "metadata": {},
   "outputs": [],
   "source": [
    "data = pd.read_csv('Visa_For_Lisa_Loan_Modelling.csv')"
   ]
  },
  {
   "cell_type": "markdown",
   "metadata": {},
   "source": [
    "## Dataset"
   ]
  },
  {
   "cell_type": "code",
   "execution_count": null,
   "metadata": {},
   "outputs": [],
   "source": [
    "data.drop('ID', axis=1, inplace=True)"
   ]
  },
  {
   "cell_type": "code",
   "execution_count": null,
   "metadata": {},
   "outputs": [],
   "source": [
    "data"
   ]
  },
  {
   "cell_type": "markdown",
   "metadata": {},
   "source": [
    "## Statistics of dataset"
   ]
  },
  {
   "cell_type": "code",
   "execution_count": null,
   "metadata": {},
   "outputs": [],
   "source": [
    "print(data.info())\n",
    "print()\n",
    "print(data.describe())"
   ]
  },
  {
   "cell_type": "code",
   "execution_count": null,
   "metadata": {},
   "outputs": [],
   "source": [
    "data.isnull().sum()"
   ]
  },
  {
   "cell_type": "markdown",
   "metadata": {},
   "source": [
    "## Visualizations"
   ]
  },
  {
   "cell_type": "code",
   "execution_count": null,
   "metadata": {},
   "outputs": [],
   "source": [
    "fig = px.imshow(data.corr(), text_auto=True, width=800, height=800)\n",
    "fig.update_layout(title='Correlation')\n",
    "fig.show()"
   ]
  },
  {
   "cell_type": "code",
   "execution_count": null,
   "metadata": {},
   "outputs": [],
   "source": [
    "fig = px.histogram(data, x='Age', y='Mortgage', barmode='group', text_auto=True)\n",
    "fig.update_layout(title='Distribution of mortgage according to ages', height=400, width=1200)\n",
    "fig.update_layout(xaxis_title='Ages', yaxis_title='Counts')\n",
    "fig.show()"
   ]
  },
  {
   "cell_type": "code",
   "execution_count": null,
   "metadata": {},
   "outputs": [],
   "source": [
    "a = pd.cut(data['Education'], bins=3)\n",
    "counts = a.value_counts().sort_index()\n",
    "legend_names = ['Graduate', 'High School', 'Professional Degree']\n",
    "fig = px.pie(names=legend_names, values=counts.values, title='Education Distribution')\n",
    "fig.show()"
   ]
  },
  {
   "cell_type": "code",
   "execution_count": null,
   "metadata": {},
   "outputs": [],
   "source": [
    "loan = pd.cut(data['Personal Loan'], bins=2)\n",
    "counts = loan.value_counts().sort_index()\n",
    "legend_names = ['No', 'Yes']\n",
    "fig = px.bar(x=legend_names, y=counts.values, title='Presence of Personal Loans', color=legend_names, text_auto=True)\n",
    "fig.update_layout(xaxis_title='Personal Loan', yaxis_title='Counts')\n",
    "fig.show()"
   ]
  },
  {
   "cell_type": "code",
   "execution_count": null,
   "metadata": {},
   "outputs": [],
   "source": [
    "credit_card_not = data['CreditCard'] == 0\n",
    "credit_card_not = credit_card_not.sum()\n",
    "credit_card_yes = data['CreditCard'] == 1\n",
    "credit_card_yes = credit_card_yes.sum()\n",
    "fig = px.pie(names=['Yes', 'No'], values=[credit_card_yes, credit_card_not], title='Distribution of Credit Card Usage')\n",
    "fig.show()"
   ]
  },
  {
   "cell_type": "code",
   "execution_count": null,
   "metadata": {},
   "outputs": [],
   "source": [
    "loan = pd.cut(data['Securities Account'], bins=2)\n",
    "counts = loan.value_counts().sort_index()\n",
    "legend_names = ['No', 'Yes']\n",
    "fig = px.bar(x=counts.values, y=legend_names, title='Distribution of Securities Account', color=legend_names, text_auto=True, orientation='h')\n",
    "fig.update_layout(xaxis_title='Securities Account', yaxis_title='Counts')\n",
    "fig.show()"
   ]
  },
  {
   "cell_type": "code",
   "execution_count": null,
   "metadata": {},
   "outputs": [],
   "source": [
    "data4 = data.copy()\n",
    "value = data4['CCAvg'].sort_values(ascending=False).head(120)\n",
    "color = data4['CCAvg'].astype(str).head(120)\n",
    "data4['Family'] = data4['Family'].replace({1: 'Family(1 person)', 2:'Family(2 people)', 3: 'Family(3 people)', 4: 'Family(4 people)'}).head(120)\n",
    "path_1 = data4['Family'].astype(str).head(120)\n",
    "\n",
    "fig = px.sunburst(data4, path=[path_1, color], values=value, color=color)\n",
    "fig.update_layout(title_text='Chart of Top 30 CCAvg Values for Each Family Category')\n",
    "fig.show()"
   ]
  },
  {
   "cell_type": "code",
   "execution_count": null,
   "metadata": {},
   "outputs": [],
   "source": [
    "bins = [0, 5, 10, 20, 30, float('inf')]\n",
    "labels = ['Less than 5', 'Between 5 and 10', 'Between 10 and 20', 'Between 20 and 30', 'More than 30']\n",
    "data2 = data.copy()\n",
    "data2['Experience'] = pd.cut(data['Experience'], bins=bins, labels=labels)\n",
    "data2 = data2.groupby(['CreditCard', 'Experience'])['Income'].mean().reset_index()\n",
    "\n",
    "fig = px.histogram(data2, x='Experience', y='Income', color='CreditCard', barmode='group', text_auto=True)\n",
    "fig.update_layout(title='Statistics of clients by Experience and Credit Card', yaxis_title='Income')\n",
    "fig.show()"
   ]
  },
  {
   "cell_type": "code",
   "execution_count": null,
   "metadata": {},
   "outputs": [],
   "source": [
    "data3 = data.copy()\n",
    "data3['ZIP Code'] = data3['ZIP Code'].astype(str)\n",
    "zip_counts = data3.groupby('ZIP Code').size().reset_index(name='Count')\n",
    "zip_counts_sorted = zip_counts.sort_values(by='Count', ascending=False).head(30)\n",
    "fig = px.bar(zip_counts_sorted, x='ZIP Code', y='Count', color='ZIP Code', text_auto=True)\n",
    "fig.update_layout(title='Number of clients by Zip Code location')\n",
    "fig.show()"
   ]
  },
  {
   "cell_type": "markdown",
   "metadata": {},
   "source": [
    "## Machine Learning"
   ]
  },
  {
   "cell_type": "code",
   "execution_count": null,
   "metadata": {},
   "outputs": [],
   "source": [
    "X = data.drop('Personal Loan', axis=1)\n",
    "y = data['Personal Loan']\n",
    "X_train, X_test, y_train, y_test = train_test_split(X, y, test_size=0.2, random_state=42)"
   ]
  },
  {
   "cell_type": "code",
   "execution_count": null,
   "metadata": {},
   "outputs": [],
   "source": [
    "def fit_model(model):\n",
    "    model.fit(X_train, y_train)\n",
    "    y_pred = model.predict(X_test)\n",
    "    print('Model name: ', str(model))\n",
    "    print(f'Accurance Score: {int(accuracy_score(y_test, y_pred) * 100)}%')\n",
    "    print(f'Mean Squared Error: {round(mean_squared_error(y_test, y_pred), 3) * 100}%')\n",
    "    print(f'Cross Validation Score: {int(np.mean(cross_val_score(model, X_train, y_train, cv=10)) * 100)}%')\n",
    "    print(f'Confusion Matrix:')\n",
    "    cm = confusion_matrix(y_test, y_pred)\n",
    "    disp = ConfusionMatrixDisplay(confusion_matrix=cm)\n",
    "    disp.plot()\n",
    "    plt.show()"
   ]
  },
  {
   "cell_type": "markdown",
   "metadata": {},
   "source": [
    "## Logistic Regression"
   ]
  },
  {
   "cell_type": "code",
   "execution_count": null,
   "metadata": {},
   "outputs": [],
   "source": [
    "model = LogisticRegression()\n",
    "fit_model(model)"
   ]
  },
  {
   "cell_type": "markdown",
   "metadata": {},
   "source": [
    "## Decision Tree Classifier"
   ]
  },
  {
   "cell_type": "code",
   "execution_count": null,
   "metadata": {},
   "outputs": [],
   "source": [
    "model = DecisionTreeClassifier()\n",
    "fit_model(model)"
   ]
  },
  {
   "cell_type": "markdown",
   "metadata": {},
   "source": [
    "## Random Forest Classifier"
   ]
  },
  {
   "cell_type": "code",
   "execution_count": null,
   "metadata": {},
   "outputs": [],
   "source": [
    "model = RandomForestClassifier()\n",
    "fit_model(model)"
   ]
  },
  {
   "cell_type": "markdown",
   "metadata": {},
   "source": [
    "## SVC"
   ]
  },
  {
   "cell_type": "code",
   "execution_count": null,
   "metadata": {},
   "outputs": [],
   "source": [
    "model = SVC()\n",
    "fit_model(model)"
   ]
  },
  {
   "cell_type": "markdown",
   "metadata": {},
   "source": [
    "## KNeighborsClassifier"
   ]
  },
  {
   "cell_type": "code",
   "execution_count": null,
   "metadata": {},
   "outputs": [],
   "source": [
    "model = KNeighborsClassifier()\n",
    "fit_model(model)"
   ]
  },
  {
   "cell_type": "markdown",
   "metadata": {},
   "source": [
    "## Linear Discriminant Analysis"
   ]
  },
  {
   "cell_type": "code",
   "execution_count": null,
   "metadata": {},
   "outputs": [],
   "source": [
    "model = LinearDiscriminantAnalysis()\n",
    "fit_model(model)"
   ]
  },
  {
   "cell_type": "markdown",
   "metadata": {},
   "source": [
    "## GaussianNB"
   ]
  },
  {
   "cell_type": "code",
   "execution_count": null,
   "metadata": {},
   "outputs": [],
   "source": [
    "model = GaussianNB()\n",
    "fit_model(model)"
   ]
  }
 ],
 "metadata": {
  "kernelspec": {
   "display_name": "Python 3",
   "language": "python",
   "name": "python3"
  },
  "language_info": {
   "codemirror_mode": {
    "name": "ipython",
    "version": 3
   },
   "file_extension": ".py",
   "mimetype": "text/x-python",
   "name": "python",
   "nbconvert_exporter": "python",
   "pygments_lexer": "ipython3",
   "version": "3.11.8"
  }
 },
 "nbformat": 4,
 "nbformat_minor": 2
}
